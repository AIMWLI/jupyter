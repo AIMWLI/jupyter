{
 "cells": [
  {
   "cell_type": "markdown",
   "metadata": {
    "collapsed": true,
    "pycharm": {
     "name": "#%% md\n"
    }
   },
   "source": [
    "# 这是一级标题\n",
    "## 这是二级标题\n",
    "### 这是三级标题\n",
    "#### 这是四级标题\n",
    "##### 这是五级标题\n",
    "###### 这是六级标题\n",
    "\n",
    "---\n",
    "\n",
    "**这是加粗的文字**\n",
    "*这是倾斜的文字*\n",
    "***这是斜体加粗的文字***\n",
    "~~这是加删除线的文字~~\n",
    "\n",
    "---\n",
    ">这是引用的内容\n",
    ">>这是引用的内容\n",
    ">>>>>>>>>>这是引用的内容\n",
    "\n",
    "\n",
    "---\n",
    "[简书](http://jianshu.com)\n",
    "[百度](http://baidu.com)\n",
    "\n",
    "---\n",
    "- 列表内容\n",
    "+ 列表内容\n",
    "* 列表内容\n",
    "\n",
    "---\n",
    "1. 列表内容\n",
    "2. 列表内容\n",
    "3. 列表内容\n",
    "\n",
    "---\n",
    "\n",
    "表头|表头|表头\n",
    "---|:--:|---:\n",
    "内容|内容|内容\n",
    "内容|内容|内容\n",
    "\n",
    "第二行分割表头和内容。\n",
    "- 有一个就行，为了对齐，多加了几个\n",
    "文字默认居左\n",
    "-两边加：表示文字居中\n",
    "-右边加：表示文字居右\n",
    "注：原生的语法两边都要用 | 包起来。此处省略\n",
    "\n",
    "---\n",
    "\n",
    "```\n",
    "  代码...\n",
    "  代码...\n",
    "  代码...\n",
    "```\n",
    "`create database hero;`\n",
    "\n",
    "```\n",
    "    function fun(){\n",
    "         echo \"这是一句非常牛逼的代码\";\n",
    "    }\n",
    "    fun();\n",
    "```\n",
    "\n",
    "---\n",
    "\n",
    "```flow\n",
    "\n",
    "st=>start: 开始\n",
    "op=>operation: My Operation\n",
    "cond=>condition: Yes or No?\n",
    "e=>end\n",
    "st->op->cond\n",
    "cond(yes)->e\n",
    "cond(no)->op\n",
    "```"
   ]
  }
 ],
 "metadata": {
  "kernelspec": {
   "display_name": "Python 3",
   "language": "python",
   "name": "python3"
  },
  "language_info": {
   "codemirror_mode": {
    "name": "ipython",
    "version": 3
   },
   "file_extension": ".py",
   "mimetype": "text/x-python",
   "name": "python",
   "nbconvert_exporter": "python",
   "pygments_lexer": "ipython3",
   "version": "3.6.1"
  },
  "pycharm": {
   "stem_cell": {
    "cell_type": "raw",
    "metadata": {
     "collapsed": false
    },
    "source": []
   }
  }
 },
 "nbformat": 4,
 "nbformat_minor": 1
}
